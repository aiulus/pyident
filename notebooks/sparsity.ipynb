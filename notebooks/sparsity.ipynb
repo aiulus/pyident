{
 "cells": [
  {
   "cell_type": "markdown",
   "id": "6d5c469a",
   "metadata": {},
   "source": [
    "# pyident — Sparsity sweep (minimal notebook)\n",
    "This notebook is a **thin wrapper** around the same core function the CLI uses:\n",
    "`pyident.experiments.sparsity.sweep_sparsity`. It writes a CSV and shows a\n",
    "couple of quick diagnostics/plots.\n",
    "\n",
    "> Tip: If you open this in Colab, uncomment the first cell to install your repo."
   ]
  },
  {
   "cell_type": "code",
   "execution_count": null,
   "id": "eba8fc53",
   "metadata": {},
   "outputs": [],
   "source": [
    "# !pip install -U pip\n",
    "# !pip install -U matplotlib pandas\n",
    "# %pip install -e .  # if running within a cloned repo"
   ]
  },
  {
   "cell_type": "code",
   "execution_count": null,
   "id": "9c5a3fe2",
   "metadata": {},
   "outputs": [],
   "source": [
    "# Setup\n",
    "import os, json\n",
    "import numpy as np\n",
    "import pandas as pd\n",
    "import matplotlib.pyplot as plt\n",
    "\n",
    "# JAX env (safe defaults; overridden by your local env/CLI)\n",
    "os.environ.setdefault(\"JAX_PLATFORM_NAME\", \"cpu\")\n",
    "os.environ.setdefault(\"TF_CPP_MIN_LOG_LEVEL\", \"2\")\n",
    "\n",
    "from pyident.experiments.sparsity import sweep_sparsity"
   ]
  },
  {
   "cell_type": "markdown",
   "id": "22b91d41",
   "metadata": {},
   "source": [
    "## Parameters (edit me)"
   ]
  },
  {
   "cell_type": "code",
   "execution_count": null,
   "id": "0d5a9803",
   "metadata": {},
   "outputs": [],
   "source": [
    "# --- core experiment parameters ---\n",
    "n = 12\n",
    "m = 2\n",
    "p_values = [1.0, 0.8, 0.6, 0.4, 0.3, 0.2, 0.1, 0.05]\n",
    "T = 120\n",
    "dt = 0.05\n",
    "sparse_which = \"both\"       # \"A\", \"B\", or \"both\"\n",
    "signal = \"prbs\"             # \"prbs\" or \"multisine\"\n",
    "sigPE = 12\n",
    "seeds = [0, 1, 2]\n",
    "algs = (\"dmdc\", \"dmdc_tls\")  # tuple or list of estimator names\n",
    "\n",
    "# options\n",
    "x0_mode = None            # or \"zero\", \"gaussian\", ...\n",
    "U_restr_dim = None        # e.g., 1 to restrict to 1D admissible input subspace\n",
    "use_jax = False\n",
    "jax_x64 = True\n",
    "\n",
    "# output CSV path\n",
    "out_csv = \"runs/sparsity_notebook.csv\"  # directories will be created"
   ]
  },
  {
   "cell_type": "markdown",
   "id": "dc3880f4",
   "metadata": {},
   "source": [
    "## Run"
   ]
  },
  {
   "cell_type": "code",
   "execution_count": null,
   "id": "c94b2d6a",
   "metadata": {},
   "outputs": [],
   "source": [
    "# Ensure output directory exists\n",
    "import os\n",
    "os.makedirs(os.path.dirname(out_csv) or \".\", exist_ok=True)\n",
    "\n",
    "# Run the exact same core routine as the CLI\n",
    "sweep_sparsity(\n",
    "    n=n,\n",
    "    m=m,\n",
    "    p_values=p_values,\n",
    "    T=T,\n",
    "    dt=dt,\n",
    "    sparse_which=sparse_which,\n",
    "    signal=signal,\n",
    "    sigPE=sigPE,\n",
    "    seeds=seeds,\n",
    "    algs=algs,\n",
    "    out_csv=out_csv,\n",
    "    use_jax=use_jax,\n",
    "    jax_x64=jax_x64,\n",
    "    x0_mode=x0_mode,\n",
    "    U_restr_dim=U_restr_dim,\n",
    ")\n",
    "\n",
    "print(f\"Wrote {out_csv}\")"
   ]
  },
  {
   "cell_type": "markdown",
   "id": "2c3e3f0a",
   "metadata": {},
   "source": [
    "## Quick diagnostics"
   ]
  },
  {
   "cell_type": "code",
   "execution_count": null,
   "id": "c4c934fb",
   "metadata": {},
   "outputs": [],
   "source": [
    "import pandas as pd, numpy as np\n",
    "df = pd.read_csv(out_csv)\n",
    "print(\"Unique env rows:\\n\", df[[\"env.accelerator\",\"env.jax_x64\"]].drop_duplicates())\n",
    "\n",
    "g = df.groupby(\"p_density\")[\"K_rank\"].agg([\"count\",\"mean\",\"std\"]).reset_index()\n",
    "print(\"\\nK_rank by density:\\n\", g)\n",
    "\n",
    "# slope of E[K_rank] vs density\n",
    "slope = (g[\"mean\"].iloc[-1] - g[\"mean\"].iloc[0]) / (g[\"p_density\"].iloc[-1] - g[\"p_density\"].iloc[0])\n",
    "print(f\"\\ndE[K_rank]/d(density) = {slope:.3f} (expect > 0)\")"
   ]
  },
  {
   "cell_type": "markdown",
   "id": "e0d2a72f",
   "metadata": {},
   "source": [
    "## Plots"
   ]
  },
  {
   "cell_type": "code",
   "execution_count": null,
   "id": "3cb38c48",
   "metadata": {},
   "outputs": [],
   "source": [
    "# Plot 1: E[K_rank] vs density\n",
    "df = pd.read_csv(out_csv)\n",
    "g = df.groupby(\"p_density\")[\"K_rank\"].agg([\"mean\",\"std\"]).reset_index()\n",
    "\n",
    "fig, ax = plt.subplots(figsize=(5, 3.2))\n",
    "ax.errorbar(g[\"p_density\"], g[\"mean\"], yerr=g[\"std\"], lw=2, capsize=3)\n",
    "ax.set_xlabel(\"p_density (A/B nonzero fraction)\")\n",
    "ax.set_ylabel(\"E[K_rank]\")\n",
    "ax.set_title(\"Sparsity: expected visible rank vs density\")\n",
    "ax.grid(True, alpha=0.3)\n",
    "plt.show()"
   ]
  },
  {
   "cell_type": "code",
   "execution_count": null,
   "id": "19631ed3",
   "metadata": {},
   "outputs": [],
   "source": [
    "# Plot 2: Visibility success vs density\n",
    "n = int(df[\"n\"].iloc[0])\n",
    "vis = (df[\"K_rank\"] >= n).groupby(df[\"p_density\"]).mean().reset_index()\n",
    "\n",
    "fig, ax = plt.subplots(figsize=(5, 3.2))\n",
    "ax.plot(vis[\"p_density\"], vis[\"K_rank\"], marker=\"o\", lw=2)\n",
    "ax.set_xlabel(\"p_density\")\n",
    "ax.set_ylabel(\"P[K_rank >= n]\")\n",
    "ax.set_title(\"Visibility success vs density\")\n",
    "ax.grid(True, alpha=0.3)\n",
    "plt.show()"
   ]
  }
 ],
 "metadata": {
  "language_info": {
   "name": "python"
  }
 },
 "nbformat": 4,
 "nbformat_minor": 5
}
