{
 "cells": [
  {
   "cell_type": "markdown",
   "id": "19f94055",
   "metadata": {},
   "source": [
    "# pyident — Underactuation sweep (minimal notebook)\n",
    "This notebook is a **thin wrapper** around the same core function the CLI uses:\n",
    "`pyident.experiments.underactuation.sweep_underactuation`. It writes a CSV and\n",
    "shows quick diagnostics/plots.\n",
    "\n",
    "> Tip: If you open this in Colab, uncomment the first cell to install your repo."
   ]
  },
  {
   "cell_type": "code",
   "execution_count": null,
   "id": "b3d018f7",
   "metadata": {},
   "outputs": [],
   "source": [
    "# (Colab only) Install your repo — uncomment if needed\n",
    "# !pip install -U pip\n",
    "# !pip install -U matplotlib pandas\n",
    "# %pip install -e .  # if running within a cloned repo"
   ]
  },
  {
   "cell_type": "code",
   "execution_count": null,
   "id": "7a3ef69d",
   "metadata": {},
   "outputs": [],
   "source": [
    "# Setup\n",
    "import os, json\n",
    "import numpy as np\n",
    "import pandas as pd\n",
    "import matplotlib.pyplot as plt\n",
    "\n",
    "# JAX env (safe defaults; overridden by your local env/CLI)\n",
    "os.environ.setdefault(\"JAX_PLATFORM_NAME\", \"cpu\")\n",
    "os.environ.setdefault(\"TF_CPP_MIN_LOG_LEVEL\", \"2\")\n",
    "\n",
    "from pyident.experiments.underactuation import sweep_underactuation"
   ]
  },
  {
   "cell_type": "markdown",
   "id": "22c32fed",
   "metadata": {},
   "source": [
    "## Parameters (edit me)"
   ]
  },
  {
   "cell_type": "code",
   "execution_count": null,
   "id": "25e35c02",
   "metadata": {},
   "outputs": [],
   "source": [
    "# --- core experiment parameters ---\n",
    "n = 8\n",
    "m_values = [1, 2, 3, 4]\n",
    "T = 200\n",
    "dt = 0.05\n",
    "ensemble = \"ginibre\"     # or \"sparse\", \"stable\", \"binary\"\n",
    "signal = \"prbs\"\n",
    "sigPE = 12\n",
    "seeds = [0, 1, 2]\n",
    "algs = (\"dmdc\",)         # estimators to run\n",
    "\n",
    "# options\n",
    "x0_mode = None           # or \"zero\"\n",
    "sparse_which = \"B\"       # used if ensemble == \"sparse\"\n",
    "p_density_B = 0.1        # used if ensemble == \"sparse\"\n",
    "use_jax = False\n",
    "jax_x64 = True\n",
    "\n",
    "# output CSV path\n",
    "out_csv = \"runs/underact_notebook.csv\"  # directories will be created"
   ]
  },
  {
   "cell_type": "markdown",
   "id": "4cd8b063",
   "metadata": {},
   "source": [
    "## Run"
   ]
  },
  {
   "cell_type": "code",
   "execution_count": null,
   "id": "962ec56b",
   "metadata": {},
   "outputs": [],
   "source": [
    "# Ensure output directory exists\n",
    "import os\n",
    "os.makedirs(os.path.dirname(out_csv) or \".\", exist_ok=True)\n",
    "\n",
    "# Run the exact same core routine as the CLI\n",
    "sweep_underactuation(\n",
    "    n=n,\n",
    "    m_values=m_values,\n",
    "    T=T,\n",
    "    dt=dt,\n",
    "    ensemble=ensemble,\n",
    "    signal=signal,\n",
    "    sigPE=sigPE,\n",
    "    seeds=seeds,\n",
    "    algs=algs,\n",
    "    out_csv=out_csv,\n",
    "    use_jax=use_jax,\n",
    "    jax_x64=jax_x64,\n",
    "    x0_mode=x0_mode,\n",
    "    sparse_which=sparse_which,\n",
    "    p_density_B=p_density_B,\n",
    ")\n",
    "\n",
    "print(f\"Wrote {out_csv}\")"
   ]
  },
  {
   "cell_type": "markdown",
   "id": "3f319b7b",
   "metadata": {},
   "source": [
    "## Quick diagnostics"
   ]
  },
  {
   "cell_type": "code",
   "execution_count": null,
   "id": "b4bd5128",
   "metadata": {},
   "outputs": [],
   "source": [
    "import pandas as pd, numpy as np\n",
    "df = pd.read_csv(out_csv)\n",
    "\n",
    "# E[K_rank] by m\n",
    "gK = df.groupby(\"m\")[\"K_rank\"].mean()\n",
    "print(\"E[K_rank] by m:\\n\", gK)\n",
    "\n",
    "# Spearman(m, A_err) (if estimator column present)\n",
    "if \"est.dmdc.A_err_PV\" in df.columns:\n",
    "    gerr = df.groupby(\"m\")[\"est.dmdc.A_err_PV\"].mean().reset_index()\n",
    "    rho = gerr[\"m\"].corr(gerr[\"est.dmdc.A_err_PV\"], method=\"spearman\")\n",
    "    print(f\"Spearman(m, A_err): {rho:.3f}\")"
   ]
  },
  {
   "cell_type": "markdown",
   "id": "9a5983ea",
   "metadata": {},
   "source": [
    "## Plots"
   ]
  },
  {
   "cell_type": "code",
   "execution_count": null,
   "id": "7d9dd136",
   "metadata": {},
   "outputs": [],
   "source": [
    "# Plot 1: E[V_dim] vs m (mean ± std)\n",
    "if \"V_dim\" in df.columns:\n",
    "    mu = df.groupby(\"m\")[\"V_dim\"].mean()\n",
    "    sd = df.groupby(\"m\")[\"V_dim\"].std()\n",
    "\n",
    "    fig, ax = plt.subplots(figsize=(5, 3.2))\n",
    "    ax.errorbar(mu.index.values, mu.values, yerr=sd.values, lw=2, capsize=3)\n",
    "    ax.set_xlabel(\"m\")\n",
    "    ax.set_ylabel(\"E[V_dim]\")\n",
    "    ax.set_title(\"Underactuation: visible subspace vs m\")\n",
    "    ax.grid(True, alpha=0.3)\n",
    "    plt.show()"
   ]
  },
  {
   "cell_type": "code",
   "execution_count": null,
   "id": "eb9076ff",
   "metadata": {},
   "outputs": [],
   "source": [
    "# Plot 2: DMDc success rate by m (threshold based)\n",
    "if \"est.dmdc.A_err_PV\" in df.columns:\n",
    "    tau = max(1e-8, df[\"est.dmdc.A_err_PV\"].median() * 10.0)\n",
    "    succ = (df[\"est.dmdc.A_err_PV\"] < tau).groupby(df[\"m\"]).mean().reset_index()\n",
    "\n",
    "    fig, ax = plt.subplots(figsize=(5, 3.2))\n",
    "    ax.plot(succ[\"m\"], succ[\"est.dmdc.A_err_PV\"], marker=\"o\", lw=2)\n",
    "    ax.set_xlabel(\"m\")\n",
    "    ax.set_ylabel(\"success rate (A_err<thr)\")\n",
    "    ax.set_title(\"DMDc success vs underactuation level\")\n",
    "    ax.grid(True, alpha=0.3)\n",
    "    plt.show()"
   ]
  }
 ],
 "metadata": {},
 "nbformat": 4,
 "nbformat_minor": 5
}